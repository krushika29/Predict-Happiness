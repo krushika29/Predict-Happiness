{
 "cells": [
  {
   "cell_type": "code",
   "execution_count": 3,
   "metadata": {
    "collapsed": true
   },
   "outputs": [],
   "source": [
    "import pandas as pd\n",
    "import numpy as np\n",
    "from nltk.corpus import stopwords\n",
    "import re\n",
    "from nltk.stem import PorterStemmer \n",
    "from sklearn.feature_extraction.text import *\n",
    "from sklearn.pipeline import Pipeline\n",
    "from sklearn.preprocessing import LabelEncoder"
   ]
  },
  {
   "cell_type": "code",
   "execution_count": 4,
   "metadata": {
    "collapsed": true
   },
   "outputs": [],
   "source": [
    "#Importing Data into a Pandas Data Frame\n",
    "data_train = pd.read_csv(\"dataset/train.csv\")\n",
    "data_test = pd.read_csv(\"dataset/test.csv\")"
   ]
  },
  {
   "cell_type": "code",
   "execution_count": 5,
   "metadata": {
    "collapsed": true
   },
   "outputs": [],
   "source": [
    "# A function to clean the data\n",
    "stop_words = set(stopwords.words(\"english\"))\n",
    "def clean_data(text,lowercase=False,remove_stops = False, stemming = False):\n",
    "    txt = str(text)\n",
    "    txt = re.sub(r'[^A-Za-z0-9\\s]',r'',txt)\n",
    "    txt = re.sub(r'\\n',r' ',txt)\n",
    "    \n",
    "    if lowercase:\n",
    "        txt = \" \".join([w.lower() for w in txt.split()])\n",
    "        \n",
    "    if remove_stops:\n",
    "        txt = \" \".join([w for w in txt.split() if w not in stop_words])\n",
    "        \n",
    "    if stemming:\n",
    "        st = PorterStemmer()\n",
    "        txt = \" \".join([st.stem(w) for w in txt.split()])\n",
    "        \n",
    "    return txt"
   ]
  },
  {
   "cell_type": "code",
   "execution_count": 6,
   "metadata": {
    "collapsed": true
   },
   "outputs": [],
   "source": [
    "# Combining the Test and Train data, then cleaning the whole data (ie Description) together\n",
    "data_test['Is_Response'] = np.nan\n",
    "alldata = pd.concat([data_train,data_test]).reset_index(drop=True)\n",
    "alldata['Description'] = alldata['Description'].map(lambda x: clean_data(x,lowercase=True,remove_stops=True,stemming = True))"
   ]
  },
  {
   "cell_type": "code",
   "execution_count": 7,
   "metadata": {
    "collapsed": true
   },
   "outputs": [],
   "source": [
    "#Calculating the Bag of Words and TDIDF Matrix\n",
    "cnt_vector = CountVectorizer(analyzer = 'word',ngram_range =(1,1),min_df = 150,max_features = 500)\n",
    "tf_idf = TfidfVectorizer(analyzer = 'word',ngram_range =(1,1),min_df = 150,max_features = 500)\n",
    "\n",
    "bagofwords = cnt_vector.fit_transform(alldata['Description'])\n",
    "tfidf = tf_idf.fit_transform(alldata['Description'])"
   ]
  },
  {
   "cell_type": "code",
   "execution_count": 8,
   "metadata": {
    "collapsed": true
   },
   "outputs": [],
   "source": [
    "# Creating Encoders for Categorical Variables\n",
    "cols = [\"Browser_Used\",\"Device_Used\"]\n",
    "\n",
    "for i in cols:\n",
    "    lbl = LabelEncoder()\n",
    "    alldata[i] = lbl.fit_transform(alldata[i])\n",
    "    \n",
    "bow_df = pd.DataFrame(bagofwords.todense())\n",
    "tfidf_df = pd.DataFrame(tfidf.todense())\n",
    "bow_df.columns = ['col'+ str(x) for x in bow_df.columns]\n",
    "tfidf_df.columns = ['col' + str(x) for x in tfidf_df.columns]"
   ]
  },
  {
   "cell_type": "code",
   "execution_count": 9,
   "metadata": {
    "collapsed": true
   },
   "outputs": [],
   "source": [
    "#Splitting the Bag of words and TFIDF Data Frames into seperate Test and Train data\n",
    "bow_df_train = bow_df[:len(data_train)]\n",
    "bow_df_test = bow_df[len(data_train):]\n",
    "\n",
    "tfid_df_train = tfidf_df[:len(data_train)]\n",
    "tfid_df_test = tfidf_df[len(data_train):]"
   ]
  },
  {
   "cell_type": "code",
   "execution_count": 10,
   "metadata": {
    "collapsed": true
   },
   "outputs": [],
   "source": [
    "#Now Splitting the Combined Data into Test and Train Data\n",
    "train = alldata[~pd.isnull(alldata.Is_Response)]\n",
    "test = alldata[pd.isnull(alldata.Is_Response)]"
   ]
  },
  {
   "cell_type": "code",
   "execution_count": 12,
   "metadata": {},
   "outputs": [
    {
     "name": "stderr",
     "output_type": "stream",
     "text": [
      "/home/krushika/anaconda3/lib/python3.6/site-packages/ipykernel_launcher.py:1: SettingWithCopyWarning: \n",
      "A value is trying to be set on a copy of a slice from a DataFrame.\n",
      "Try using .loc[row_indexer,col_indexer] = value instead\n",
      "\n",
      "See the caveats in the documentation: http://pandas.pydata.org/pandas-docs/stable/indexing.html#indexing-view-versus-copy\n",
      "  \"\"\"Entry point for launching an IPython kernel.\n"
     ]
    }
   ],
   "source": [
    "train[\"Is_Response\"] = [1 if i == \"happy\" else 0 for i in train[\"Is_Response\"]]\n",
    "\n",
    "train_features1 = pd.concat([train[cols],bow_df_train],axis=1)\n",
    "test_features1 = pd.concat([test[cols],bow_df_test],axis=1)\n",
    "\n",
    "train_features2 = pd.concat([train[cols],tfid_df_train],axis=1)\n",
    "test_features2 = pd.concat([test[cols],tfid_df_test],axis=1)"
   ]
  },
  {
   "cell_type": "code",
   "execution_count": 32,
   "metadata": {},
   "outputs": [],
   "source": [
    "from sklearn.naive_bayes import GaussianNB\n",
    "target = train['Is_Response']\n",
    "clf = GaussianNB()\n",
    "pred = clf.fit(train_features1,target).predict(test_features1)\n",
    "clf2 = GaussianNB()\n",
    "pred2 = clf2.fit(train_features2,target).predict(test_features2)\n"
   ]
  }
 ],
 "metadata": {
  "kernelspec": {
   "display_name": "Python 3",
   "language": "python",
   "name": "python3"
  },
  "language_info": {
   "codemirror_mode": {
    "name": "ipython",
    "version": 3
   },
   "file_extension": ".py",
   "mimetype": "text/x-python",
   "name": "python",
   "nbconvert_exporter": "python",
   "pygments_lexer": "ipython3",
   "version": "3.6.1"
  }
 },
 "nbformat": 4,
 "nbformat_minor": 2
}
